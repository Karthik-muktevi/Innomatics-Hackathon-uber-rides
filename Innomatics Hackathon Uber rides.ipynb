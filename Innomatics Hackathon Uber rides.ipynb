{
 "cells": [
  {
   "cell_type": "markdown",
   "id": "b7e94337",
   "metadata": {},
   "source": [
    "Importing Libraries"
   ]
  },
  {
   "cell_type": "code",
   "execution_count": 1,
   "id": "2994ecac",
   "metadata": {},
   "outputs": [],
   "source": [
    "import pandas as pd\n",
    "import numpy as np"
   ]
  },
  {
   "cell_type": "markdown",
   "id": "a0589f2c",
   "metadata": {},
   "source": [
    "Reading the dataset"
   ]
  },
  {
   "cell_type": "code",
   "execution_count": 2,
   "id": "215d3292",
   "metadata": {},
   "outputs": [],
   "source": [
    "df = pd.read_csv(r\"C:\\Users\\lokit\\Downloads\\uber_rides_data.xlsx - sample_train.csv\")"
   ]
  },
  {
   "cell_type": "code",
   "execution_count": 3,
   "id": "b583bd54",
   "metadata": {},
   "outputs": [
    {
     "data": {
      "text/html": [
       "<div>\n",
       "<style scoped>\n",
       "    .dataframe tbody tr th:only-of-type {\n",
       "        vertical-align: middle;\n",
       "    }\n",
       "\n",
       "    .dataframe tbody tr th {\n",
       "        vertical-align: top;\n",
       "    }\n",
       "\n",
       "    .dataframe thead th {\n",
       "        text-align: right;\n",
       "    }\n",
       "</style>\n",
       "<table border=\"1\" class=\"dataframe\">\n",
       "  <thead>\n",
       "    <tr style=\"text-align: right;\">\n",
       "      <th></th>\n",
       "      <th>ride_id</th>\n",
       "      <th>fare_amount</th>\n",
       "      <th>pickup_datetime</th>\n",
       "      <th>pickup_longitude</th>\n",
       "      <th>pickup_latitude</th>\n",
       "      <th>dropoff_longitude</th>\n",
       "      <th>dropoff_latitude</th>\n",
       "      <th>passenger_count</th>\n",
       "    </tr>\n",
       "  </thead>\n",
       "  <tbody>\n",
       "    <tr>\n",
       "      <th>0</th>\n",
       "      <td>24238194</td>\n",
       "      <td>7.5</td>\n",
       "      <td>2015-05-07 19:52:06 UTC</td>\n",
       "      <td>-73.999817</td>\n",
       "      <td>40.738354</td>\n",
       "      <td>-73.999512</td>\n",
       "      <td>40.723217</td>\n",
       "      <td>1</td>\n",
       "    </tr>\n",
       "    <tr>\n",
       "      <th>1</th>\n",
       "      <td>27835199</td>\n",
       "      <td>7.7</td>\n",
       "      <td>2009-07-17 20:04:56 UTC</td>\n",
       "      <td>-73.994355</td>\n",
       "      <td>40.728225</td>\n",
       "      <td>-73.994710</td>\n",
       "      <td>40.750325</td>\n",
       "      <td>1</td>\n",
       "    </tr>\n",
       "    <tr>\n",
       "      <th>2</th>\n",
       "      <td>44984355</td>\n",
       "      <td>12.9</td>\n",
       "      <td>2009-08-24 21:45:00 UTC</td>\n",
       "      <td>-74.005043</td>\n",
       "      <td>40.740770</td>\n",
       "      <td>-73.962565</td>\n",
       "      <td>40.772647</td>\n",
       "      <td>1</td>\n",
       "    </tr>\n",
       "    <tr>\n",
       "      <th>3</th>\n",
       "      <td>25894730</td>\n",
       "      <td>5.3</td>\n",
       "      <td>2009-06-26 08:22:21 UTC</td>\n",
       "      <td>-73.976124</td>\n",
       "      <td>40.790844</td>\n",
       "      <td>-73.965316</td>\n",
       "      <td>40.803349</td>\n",
       "      <td>3</td>\n",
       "    </tr>\n",
       "    <tr>\n",
       "      <th>4</th>\n",
       "      <td>17610152</td>\n",
       "      <td>16.0</td>\n",
       "      <td>2014-08-28 17:47:00 UTC</td>\n",
       "      <td>-73.925023</td>\n",
       "      <td>40.744085</td>\n",
       "      <td>-73.973082</td>\n",
       "      <td>40.761247</td>\n",
       "      <td>5</td>\n",
       "    </tr>\n",
       "  </tbody>\n",
       "</table>\n",
       "</div>"
      ],
      "text/plain": [
       "    ride_id  fare_amount          pickup_datetime  pickup_longitude  \\\n",
       "0  24238194          7.5  2015-05-07 19:52:06 UTC        -73.999817   \n",
       "1  27835199          7.7  2009-07-17 20:04:56 UTC        -73.994355   \n",
       "2  44984355         12.9  2009-08-24 21:45:00 UTC        -74.005043   \n",
       "3  25894730          5.3  2009-06-26 08:22:21 UTC        -73.976124   \n",
       "4  17610152         16.0  2014-08-28 17:47:00 UTC        -73.925023   \n",
       "\n",
       "   pickup_latitude  dropoff_longitude  dropoff_latitude  passenger_count  \n",
       "0        40.738354         -73.999512         40.723217                1  \n",
       "1        40.728225         -73.994710         40.750325                1  \n",
       "2        40.740770         -73.962565         40.772647                1  \n",
       "3        40.790844         -73.965316         40.803349                3  \n",
       "4        40.744085         -73.973082         40.761247                5  "
      ]
     },
     "execution_count": 3,
     "metadata": {},
     "output_type": "execute_result"
    }
   ],
   "source": [
    "df.head()"
   ]
  },
  {
   "cell_type": "code",
   "execution_count": 4,
   "id": "67c4155f",
   "metadata": {},
   "outputs": [],
   "source": [
    "#Q!What is the shape of given dataset?"
   ]
  },
  {
   "cell_type": "code",
   "execution_count": 5,
   "id": "c9e3ee14",
   "metadata": {},
   "outputs": [
    {
     "data": {
      "text/plain": [
       "(200000, 8)"
      ]
     },
     "execution_count": 5,
     "metadata": {},
     "output_type": "execute_result"
    }
   ],
   "source": [
    "df.shape"
   ]
  },
  {
   "cell_type": "code",
   "execution_count": 6,
   "id": "15ee8686",
   "metadata": {},
   "outputs": [],
   "source": [
    "#Q2How many integer columns(by default) are given in the dataset?\n"
   ]
  },
  {
   "cell_type": "code",
   "execution_count": 7,
   "id": "de589fc7",
   "metadata": {},
   "outputs": [
    {
     "data": {
      "text/plain": [
       "ride_id                int64\n",
       "fare_amount          float64\n",
       "pickup_datetime       object\n",
       "pickup_longitude     float64\n",
       "pickup_latitude      float64\n",
       "dropoff_longitude    float64\n",
       "dropoff_latitude     float64\n",
       "passenger_count        int64\n",
       "dtype: object"
      ]
     },
     "execution_count": 7,
     "metadata": {},
     "output_type": "execute_result"
    }
   ],
   "source": [
    "df.dtypes"
   ]
  },
  {
   "cell_type": "code",
   "execution_count": 8,
   "id": "39080978",
   "metadata": {},
   "outputs": [
    {
     "data": {
      "text/html": [
       "<div>\n",
       "<style scoped>\n",
       "    .dataframe tbody tr th:only-of-type {\n",
       "        vertical-align: middle;\n",
       "    }\n",
       "\n",
       "    .dataframe tbody tr th {\n",
       "        vertical-align: top;\n",
       "    }\n",
       "\n",
       "    .dataframe thead th {\n",
       "        text-align: right;\n",
       "    }\n",
       "</style>\n",
       "<table border=\"1\" class=\"dataframe\">\n",
       "  <thead>\n",
       "    <tr style=\"text-align: right;\">\n",
       "      <th></th>\n",
       "      <th>ride_id</th>\n",
       "      <th>passenger_count</th>\n",
       "    </tr>\n",
       "  </thead>\n",
       "  <tbody>\n",
       "    <tr>\n",
       "      <th>0</th>\n",
       "      <td>24238194</td>\n",
       "      <td>1</td>\n",
       "    </tr>\n",
       "    <tr>\n",
       "      <th>1</th>\n",
       "      <td>27835199</td>\n",
       "      <td>1</td>\n",
       "    </tr>\n",
       "    <tr>\n",
       "      <th>2</th>\n",
       "      <td>44984355</td>\n",
       "      <td>1</td>\n",
       "    </tr>\n",
       "    <tr>\n",
       "      <th>3</th>\n",
       "      <td>25894730</td>\n",
       "      <td>3</td>\n",
       "    </tr>\n",
       "    <tr>\n",
       "      <th>4</th>\n",
       "      <td>17610152</td>\n",
       "      <td>5</td>\n",
       "    </tr>\n",
       "    <tr>\n",
       "      <th>...</th>\n",
       "      <td>...</td>\n",
       "      <td>...</td>\n",
       "    </tr>\n",
       "    <tr>\n",
       "      <th>199995</th>\n",
       "      <td>42598914</td>\n",
       "      <td>1</td>\n",
       "    </tr>\n",
       "    <tr>\n",
       "      <th>199996</th>\n",
       "      <td>16382965</td>\n",
       "      <td>1</td>\n",
       "    </tr>\n",
       "    <tr>\n",
       "      <th>199997</th>\n",
       "      <td>27804658</td>\n",
       "      <td>2</td>\n",
       "    </tr>\n",
       "    <tr>\n",
       "      <th>199998</th>\n",
       "      <td>20259894</td>\n",
       "      <td>1</td>\n",
       "    </tr>\n",
       "    <tr>\n",
       "      <th>199999</th>\n",
       "      <td>11951496</td>\n",
       "      <td>1</td>\n",
       "    </tr>\n",
       "  </tbody>\n",
       "</table>\n",
       "<p>200000 rows × 2 columns</p>\n",
       "</div>"
      ],
      "text/plain": [
       "         ride_id  passenger_count\n",
       "0       24238194                1\n",
       "1       27835199                1\n",
       "2       44984355                1\n",
       "3       25894730                3\n",
       "4       17610152                5\n",
       "...          ...              ...\n",
       "199995  42598914                1\n",
       "199996  16382965                1\n",
       "199997  27804658                2\n",
       "199998  20259894                1\n",
       "199999  11951496                1\n",
       "\n",
       "[200000 rows x 2 columns]"
      ]
     },
     "execution_count": 8,
     "metadata": {},
     "output_type": "execute_result"
    }
   ],
   "source": [
    "df.select_dtypes(include='int64')"
   ]
  },
  {
   "cell_type": "code",
   "execution_count": 9,
   "id": "1b6fc8fc",
   "metadata": {},
   "outputs": [],
   "source": [
    "#q3 How many missing values exists in 'dropoff_longitude' column?\n"
   ]
  },
  {
   "cell_type": "code",
   "execution_count": 10,
   "id": "939427e2",
   "metadata": {},
   "outputs": [
    {
     "data": {
      "text/plain": [
       "Index(['ride_id', 'fare_amount', 'pickup_datetime', 'pickup_longitude',\n",
       "       'pickup_latitude', 'dropoff_longitude', 'dropoff_latitude',\n",
       "       'passenger_count'],\n",
       "      dtype='object')"
      ]
     },
     "execution_count": 10,
     "metadata": {},
     "output_type": "execute_result"
    }
   ],
   "source": [
    "df.columns"
   ]
  },
  {
   "cell_type": "code",
   "execution_count": 11,
   "id": "c55ac2a0",
   "metadata": {},
   "outputs": [
    {
     "data": {
      "text/plain": [
       "1"
      ]
     },
     "execution_count": 11,
     "metadata": {},
     "output_type": "execute_result"
    }
   ],
   "source": [
    "df['dropoff_longitude'].isnull().sum()"
   ]
  },
  {
   "cell_type": "code",
   "execution_count": 12,
   "id": "df588437",
   "metadata": {},
   "outputs": [
    {
     "data": {
      "text/plain": [
       "ride_id              0\n",
       "fare_amount          0\n",
       "pickup_datetime      0\n",
       "pickup_longitude     0\n",
       "pickup_latitude      0\n",
       "dropoff_longitude    1\n",
       "dropoff_latitude     1\n",
       "passenger_count      0\n",
       "dtype: int64"
      ]
     },
     "execution_count": 12,
     "metadata": {},
     "output_type": "execute_result"
    }
   ],
   "source": [
    "df.isnull().sum()"
   ]
  },
  {
   "cell_type": "code",
   "execution_count": 13,
   "id": "a04cad2e",
   "metadata": {},
   "outputs": [],
   "source": [
    "#Q4 What is the data type of ' pickup_datetime' feature in your data?\n"
   ]
  },
  {
   "cell_type": "code",
   "execution_count": 14,
   "id": "c08fd369",
   "metadata": {},
   "outputs": [
    {
     "data": {
      "text/plain": [
       "dtype('O')"
      ]
     },
     "execution_count": 14,
     "metadata": {},
     "output_type": "execute_result"
    }
   ],
   "source": [
    "df['pickup_datetime'].dtypes"
   ]
  },
  {
   "cell_type": "code",
   "execution_count": 15,
   "id": "cef20f60",
   "metadata": {},
   "outputs": [
    {
     "data": {
      "text/plain": [
       "ride_id                int64\n",
       "fare_amount          float64\n",
       "pickup_datetime       object\n",
       "pickup_longitude     float64\n",
       "pickup_latitude      float64\n",
       "dropoff_longitude    float64\n",
       "dropoff_latitude     float64\n",
       "passenger_count        int64\n",
       "dtype: object"
      ]
     },
     "execution_count": 15,
     "metadata": {},
     "output_type": "execute_result"
    }
   ],
   "source": [
    "df.dtypes"
   ]
  },
  {
   "cell_type": "code",
   "execution_count": 16,
   "id": "2ec9cd32",
   "metadata": {},
   "outputs": [],
   "source": [
    "df['pickup_datetime'] = pd.to_datetime(df['pickup_datetime'])"
   ]
  },
  {
   "cell_type": "code",
   "execution_count": 17,
   "id": "932982ae",
   "metadata": {},
   "outputs": [
    {
     "data": {
      "text/plain": [
       "ride_id                            int64\n",
       "fare_amount                      float64\n",
       "pickup_datetime      datetime64[ns, UTC]\n",
       "pickup_longitude                 float64\n",
       "pickup_latitude                  float64\n",
       "dropoff_longitude                float64\n",
       "dropoff_latitude                 float64\n",
       "passenger_count                    int64\n",
       "dtype: object"
      ]
     },
     "execution_count": 17,
     "metadata": {},
     "output_type": "execute_result"
    }
   ],
   "source": [
    "df.dtypes"
   ]
  },
  {
   "cell_type": "code",
   "execution_count": 18,
   "id": "dab392fe",
   "metadata": {},
   "outputs": [],
   "source": [
    "#Q5Which function can be used to remove null values from the dataframe?\n"
   ]
  },
  {
   "cell_type": "code",
   "execution_count": 19,
   "id": "cee25f4a",
   "metadata": {},
   "outputs": [],
   "source": [
    "df.dropna(inplace=True)"
   ]
  },
  {
   "cell_type": "code",
   "execution_count": 20,
   "id": "492aa616",
   "metadata": {},
   "outputs": [],
   "source": [
    "#Q6What is the average fare amount?\n",
    "\n",
    "#Remove the null values from the dataframe to answer the following question."
   ]
  },
  {
   "cell_type": "code",
   "execution_count": 21,
   "id": "1461cf3d",
   "metadata": {},
   "outputs": [
    {
     "data": {
      "text/plain": [
       "11.359891549458371"
      ]
     },
     "execution_count": 21,
     "metadata": {},
     "output_type": "execute_result"
    }
   ],
   "source": [
    "np.mean(df['fare_amount'])"
   ]
  },
  {
   "cell_type": "code",
   "execution_count": 22,
   "id": "dfce1331",
   "metadata": {},
   "outputs": [],
   "source": [
    "#q7 Calculate distance between each pickup and dropoff points using Haversine formula. \n",
    "#What is the median haversine distance between pickup and dropoff location according to the given dataset?"
   ]
  },
  {
   "cell_type": "code",
   "execution_count": 23,
   "id": "5acea09a",
   "metadata": {},
   "outputs": [],
   "source": [
    "import math\n",
    "\n",
    "def haversine_distance(lat1, lon1, lat2, lon2):\n",
    "    # Convert latitude and longitude to radians\n",
    "    lat1, lon1, lat2, lon2 = map(math.radians, [lat1, lon1, lat2, lon2])\n",
    "    \n",
    "    # Haversine formula\n",
    "    dlat = lat2 - lat1\n",
    "    dlon = lon2 - lon1\n",
    "    a = math.sin(dlat/2)**2 + math.cos(lat1) * math.cos(lat2) * math.sin(dlon/2)**2\n",
    "    c = 2 * math.atan2(math.sqrt(a), math.sqrt(1-a))\n",
    "    R = 6371.0 # Earth's radius in km\n",
    "    dist = R * c\n",
    "    \n",
    "    return dist"
   ]
  },
  {
   "cell_type": "code",
   "execution_count": 24,
   "id": "1914f866",
   "metadata": {},
   "outputs": [],
   "source": [
    "df['distance'] = df.apply(lambda row: haversine_distance(row['pickup_latitude'], row['pickup_longitude'], row['dropoff_latitude'],row['dropoff_longitude']),axis=1)"
   ]
  },
  {
   "cell_type": "code",
   "execution_count": 25,
   "id": "eb86d11f",
   "metadata": {},
   "outputs": [
    {
     "data": {
      "text/plain": [
       "0          1.683323\n",
       "1          2.457590\n",
       "2          5.036377\n",
       "3          1.661683\n",
       "4          4.475450\n",
       "            ...    \n",
       "199995     0.112210\n",
       "199996     1.875050\n",
       "199997    12.850319\n",
       "199998     3.539715\n",
       "199999     5.417783\n",
       "Name: distance, Length: 199999, dtype: float64"
      ]
     },
     "execution_count": 25,
     "metadata": {},
     "output_type": "execute_result"
    }
   ],
   "source": [
    "df['distance']"
   ]
  },
  {
   "cell_type": "code",
   "execution_count": 26,
   "id": "2d162793",
   "metadata": {},
   "outputs": [
    {
     "data": {
      "text/plain": [
       "2.1209923961833708"
      ]
     },
     "execution_count": 26,
     "metadata": {},
     "output_type": "execute_result"
    }
   ],
   "source": [
    "np.median(df['distance'])"
   ]
  },
  {
   "cell_type": "code",
   "execution_count": 27,
   "id": "59f90610",
   "metadata": {},
   "outputs": [],
   "source": [
    "#Q8 What is the maximum haversine distance between pickup and dropoff location according to the given dataset?"
   ]
  },
  {
   "cell_type": "code",
   "execution_count": 28,
   "id": "7525e9eb",
   "metadata": {},
   "outputs": [
    {
     "data": {
      "text/plain": [
       "16409.239135313168"
      ]
     },
     "execution_count": 28,
     "metadata": {},
     "output_type": "execute_result"
    }
   ],
   "source": [
    "max(df['distance'])"
   ]
  },
  {
   "cell_type": "code",
   "execution_count": 29,
   "id": "940c112d",
   "metadata": {},
   "outputs": [],
   "source": [
    "# Q9 How many rides have 0.0 haversine distance between pickup and dropoff location according to the given dataset?"
   ]
  },
  {
   "cell_type": "code",
   "execution_count": 30,
   "id": "8ae0179e",
   "metadata": {},
   "outputs": [
    {
     "data": {
      "text/plain": [
       "5632"
      ]
     },
     "execution_count": 30,
     "metadata": {},
     "output_type": "execute_result"
    }
   ],
   "source": [
    "len(df.loc[df['distance']==0])"
   ]
  },
  {
   "cell_type": "code",
   "execution_count": 31,
   "id": "b0e516b9",
   "metadata": {},
   "outputs": [],
   "source": [
    "#Q What is the mean 'fare_amount' for rides with 0 haversine distance?\n",
    "\n",
    "#Do you sense something fishy? Try to analyze, and give your expert opinion in Jupyter Notebook."
   ]
  },
  {
   "cell_type": "code",
   "execution_count": 32,
   "id": "cd55eabb",
   "metadata": {},
   "outputs": [
    {
     "data": {
      "text/plain": [
       "11.585317826704578"
      ]
     },
     "execution_count": 32,
     "metadata": {},
     "output_type": "execute_result"
    }
   ],
   "source": [
    "df.loc[df['distance']==0]['fare_amount'].mean()"
   ]
  },
  {
   "cell_type": "code",
   "execution_count": 33,
   "id": "bbeff839",
   "metadata": {},
   "outputs": [
    {
     "data": {
      "text/plain": [
       "distance\n",
       "0.000000        11.585318\n",
       "0.000084        50.000000\n",
       "0.000084        45.000000\n",
       "0.000084         2.500000\n",
       "0.000084         2.500000\n",
       "                  ...    \n",
       "8708.233063      6.100000\n",
       "8776.106278     49.800000\n",
       "8782.898606      4.100000\n",
       "10321.507661    13.700000\n",
       "16409.239135    15.700000\n",
       "Name: fare_amount, Length: 194361, dtype: float64"
      ]
     },
     "execution_count": 33,
     "metadata": {},
     "output_type": "execute_result"
    }
   ],
   "source": [
    "df.groupby('distance')['fare_amount'].mean()"
   ]
  },
  {
   "cell_type": "code",
   "execution_count": 34,
   "id": "47fb7eb4",
   "metadata": {},
   "outputs": [],
   "source": [
    "#Opinion : Even though the distance travelled is ZERo, passengers have been  charged with some fare which averages to 11.59\n",
    "#Which can be interpreted as cancellation fee.Maybe the passenger has booked a ride and the ride maybe cancelled by the passenger after\n",
    "#the exempted time.Since the driver travelled soome distance to reach the passengers location some fare might bee charged.(for cancellation)"
   ]
  },
  {
   "cell_type": "code",
   "execution_count": 35,
   "id": "60e078c8",
   "metadata": {},
   "outputs": [],
   "source": [
    "#Q What is the maximum 'fare_amount' for a ride?\n"
   ]
  },
  {
   "cell_type": "code",
   "execution_count": 36,
   "id": "80b7c914",
   "metadata": {},
   "outputs": [
    {
     "data": {
      "text/plain": [
       "499.0"
      ]
     },
     "execution_count": 36,
     "metadata": {},
     "output_type": "execute_result"
    }
   ],
   "source": [
    "max(df['fare_amount'])"
   ]
  },
  {
   "cell_type": "code",
   "execution_count": 37,
   "id": "859f7c71",
   "metadata": {},
   "outputs": [],
   "source": [
    "#What is the haversine distance between pickup and dropoff location for the costliest ride?\n",
    "\n",
    "#Do you sense something fishy? Try to analyze, and give your expert opinion in Jupyter Notebook."
   ]
  },
  {
   "cell_type": "code",
   "execution_count": 38,
   "id": "59623c33",
   "metadata": {},
   "outputs": [
    {
     "data": {
      "text/html": [
       "<div>\n",
       "<style scoped>\n",
       "    .dataframe tbody tr th:only-of-type {\n",
       "        vertical-align: middle;\n",
       "    }\n",
       "\n",
       "    .dataframe tbody tr th {\n",
       "        vertical-align: top;\n",
       "    }\n",
       "\n",
       "    .dataframe thead th {\n",
       "        text-align: right;\n",
       "    }\n",
       "</style>\n",
       "<table border=\"1\" class=\"dataframe\">\n",
       "  <thead>\n",
       "    <tr style=\"text-align: right;\">\n",
       "      <th></th>\n",
       "      <th>ride_id</th>\n",
       "      <th>fare_amount</th>\n",
       "      <th>pickup_datetime</th>\n",
       "      <th>pickup_longitude</th>\n",
       "      <th>pickup_latitude</th>\n",
       "      <th>dropoff_longitude</th>\n",
       "      <th>dropoff_latitude</th>\n",
       "      <th>passenger_count</th>\n",
       "      <th>distance</th>\n",
       "    </tr>\n",
       "  </thead>\n",
       "  <tbody>\n",
       "    <tr>\n",
       "      <th>170081</th>\n",
       "      <td>51151143</td>\n",
       "      <td>499.0</td>\n",
       "      <td>2011-04-10 04:10:00+00:00</td>\n",
       "      <td>-73.968377</td>\n",
       "      <td>40.764602</td>\n",
       "      <td>-73.968368</td>\n",
       "      <td>40.7646</td>\n",
       "      <td>1</td>\n",
       "      <td>0.00079</td>\n",
       "    </tr>\n",
       "  </tbody>\n",
       "</table>\n",
       "</div>"
      ],
      "text/plain": [
       "         ride_id  fare_amount           pickup_datetime  pickup_longitude  \\\n",
       "170081  51151143        499.0 2011-04-10 04:10:00+00:00        -73.968377   \n",
       "\n",
       "        pickup_latitude  dropoff_longitude  dropoff_latitude  passenger_count  \\\n",
       "170081        40.764602         -73.968368           40.7646                1   \n",
       "\n",
       "        distance  \n",
       "170081   0.00079  "
      ]
     },
     "execution_count": 38,
     "metadata": {},
     "output_type": "execute_result"
    }
   ],
   "source": [
    "df.sort_values('fare_amount',ascending=False).head(1)"
   ]
  },
  {
   "cell_type": "code",
   "execution_count": 39,
   "id": "d1b6af2d",
   "metadata": {},
   "outputs": [],
   "source": [
    "#Opinion: The fare amount is maximum for a very short distance.It could be due timing(4:10) as we can observe,where no or very less\n",
    "# cabs may be available due to which the price may go high(peak time).\n",
    "# Bandh may be happening\n",
    "#Any strike(Auto) may be going on at that time.\n",
    "#Maybe it could be an area like airport where the cab prices are high even for a short distance.\n",
    "#It can also be due to the piled up cancellation fee or the fare which passenger might not have paid for the earlier ride.\n",
    "#past transaction might have failed due to which the amount might have added up for this ride.\n"
   ]
  },
  {
   "cell_type": "code",
   "execution_count": 40,
   "id": "d404d07a",
   "metadata": {},
   "outputs": [],
   "source": [
    "#How many rides were recorded in the year 2014?\n"
   ]
  },
  {
   "cell_type": "code",
   "execution_count": 41,
   "id": "dc458a30",
   "metadata": {},
   "outputs": [
    {
     "data": {
      "text/html": [
       "<div>\n",
       "<style scoped>\n",
       "    .dataframe tbody tr th:only-of-type {\n",
       "        vertical-align: middle;\n",
       "    }\n",
       "\n",
       "    .dataframe tbody tr th {\n",
       "        vertical-align: top;\n",
       "    }\n",
       "\n",
       "    .dataframe thead th {\n",
       "        text-align: right;\n",
       "    }\n",
       "</style>\n",
       "<table border=\"1\" class=\"dataframe\">\n",
       "  <thead>\n",
       "    <tr style=\"text-align: right;\">\n",
       "      <th></th>\n",
       "      <th>ride_id</th>\n",
       "      <th>fare_amount</th>\n",
       "      <th>pickup_datetime</th>\n",
       "      <th>pickup_longitude</th>\n",
       "      <th>pickup_latitude</th>\n",
       "      <th>dropoff_longitude</th>\n",
       "      <th>dropoff_latitude</th>\n",
       "      <th>passenger_count</th>\n",
       "      <th>distance</th>\n",
       "    </tr>\n",
       "  </thead>\n",
       "  <tbody>\n",
       "    <tr>\n",
       "      <th>0</th>\n",
       "      <td>24238194</td>\n",
       "      <td>7.5</td>\n",
       "      <td>2015-05-07 19:52:06+00:00</td>\n",
       "      <td>-73.999817</td>\n",
       "      <td>40.738354</td>\n",
       "      <td>-73.999512</td>\n",
       "      <td>40.723217</td>\n",
       "      <td>1</td>\n",
       "      <td>1.683323</td>\n",
       "    </tr>\n",
       "    <tr>\n",
       "      <th>1</th>\n",
       "      <td>27835199</td>\n",
       "      <td>7.7</td>\n",
       "      <td>2009-07-17 20:04:56+00:00</td>\n",
       "      <td>-73.994355</td>\n",
       "      <td>40.728225</td>\n",
       "      <td>-73.994710</td>\n",
       "      <td>40.750325</td>\n",
       "      <td>1</td>\n",
       "      <td>2.457590</td>\n",
       "    </tr>\n",
       "    <tr>\n",
       "      <th>2</th>\n",
       "      <td>44984355</td>\n",
       "      <td>12.9</td>\n",
       "      <td>2009-08-24 21:45:00+00:00</td>\n",
       "      <td>-74.005043</td>\n",
       "      <td>40.740770</td>\n",
       "      <td>-73.962565</td>\n",
       "      <td>40.772647</td>\n",
       "      <td>1</td>\n",
       "      <td>5.036377</td>\n",
       "    </tr>\n",
       "    <tr>\n",
       "      <th>3</th>\n",
       "      <td>25894730</td>\n",
       "      <td>5.3</td>\n",
       "      <td>2009-06-26 08:22:21+00:00</td>\n",
       "      <td>-73.976124</td>\n",
       "      <td>40.790844</td>\n",
       "      <td>-73.965316</td>\n",
       "      <td>40.803349</td>\n",
       "      <td>3</td>\n",
       "      <td>1.661683</td>\n",
       "    </tr>\n",
       "    <tr>\n",
       "      <th>4</th>\n",
       "      <td>17610152</td>\n",
       "      <td>16.0</td>\n",
       "      <td>2014-08-28 17:47:00+00:00</td>\n",
       "      <td>-73.925023</td>\n",
       "      <td>40.744085</td>\n",
       "      <td>-73.973082</td>\n",
       "      <td>40.761247</td>\n",
       "      <td>5</td>\n",
       "      <td>4.475450</td>\n",
       "    </tr>\n",
       "  </tbody>\n",
       "</table>\n",
       "</div>"
      ],
      "text/plain": [
       "    ride_id  fare_amount           pickup_datetime  pickup_longitude  \\\n",
       "0  24238194          7.5 2015-05-07 19:52:06+00:00        -73.999817   \n",
       "1  27835199          7.7 2009-07-17 20:04:56+00:00        -73.994355   \n",
       "2  44984355         12.9 2009-08-24 21:45:00+00:00        -74.005043   \n",
       "3  25894730          5.3 2009-06-26 08:22:21+00:00        -73.976124   \n",
       "4  17610152         16.0 2014-08-28 17:47:00+00:00        -73.925023   \n",
       "\n",
       "   pickup_latitude  dropoff_longitude  dropoff_latitude  passenger_count  \\\n",
       "0        40.738354         -73.999512         40.723217                1   \n",
       "1        40.728225         -73.994710         40.750325                1   \n",
       "2        40.740770         -73.962565         40.772647                1   \n",
       "3        40.790844         -73.965316         40.803349                3   \n",
       "4        40.744085         -73.973082         40.761247                5   \n",
       "\n",
       "   distance  \n",
       "0  1.683323  \n",
       "1  2.457590  \n",
       "2  5.036377  \n",
       "3  1.661683  \n",
       "4  4.475450  "
      ]
     },
     "execution_count": 41,
     "metadata": {},
     "output_type": "execute_result"
    }
   ],
   "source": [
    "df.head()"
   ]
  },
  {
   "cell_type": "code",
   "execution_count": 42,
   "id": "b87e9c34",
   "metadata": {},
   "outputs": [],
   "source": [
    "import datetime as dt"
   ]
  },
  {
   "cell_type": "code",
   "execution_count": 43,
   "id": "0f9e61fd",
   "metadata": {},
   "outputs": [],
   "source": [
    "\n",
    "df['pickup_year'] = df['pickup_datetime'].dt.year"
   ]
  },
  {
   "cell_type": "code",
   "execution_count": 44,
   "id": "e1154e98",
   "metadata": {},
   "outputs": [
    {
     "data": {
      "text/plain": [
       "29968"
      ]
     },
     "execution_count": 44,
     "metadata": {},
     "output_type": "execute_result"
    }
   ],
   "source": [
    "len(df[df['pickup_year']==2014])"
   ]
  },
  {
   "cell_type": "code",
   "execution_count": 45,
   "id": "71458819",
   "metadata": {},
   "outputs": [],
   "source": [
    "#Q)How many rides were recorded in the first quarter of 2014?\n"
   ]
  },
  {
   "cell_type": "code",
   "execution_count": 46,
   "id": "77015b7a",
   "metadata": {},
   "outputs": [],
   "source": [
    "def month_to_quarter (month):\n",
    "    if month in [1,2,3]:\n",
    "        return 'Q1'\n",
    "    elif month in [4,5,6]:\n",
    "        return 'Q2'\n",
    "    elif month in [7,8,9]:\n",
    "        return 'Q3'\n",
    "    else: return 'Q4'"
   ]
  },
  {
   "cell_type": "code",
   "execution_count": 47,
   "id": "c0134fb0",
   "metadata": {},
   "outputs": [],
   "source": [
    "df['pickup_month'] = df['pickup_datetime'].dt.month"
   ]
  },
  {
   "cell_type": "code",
   "execution_count": 48,
   "id": "5c62bcd7",
   "metadata": {},
   "outputs": [],
   "source": [
    "df['quater'] = df['pickup_month'].apply(month_to_quarter)"
   ]
  },
  {
   "cell_type": "code",
   "execution_count": 49,
   "id": "6b2176f3",
   "metadata": {},
   "outputs": [
    {
     "data": {
      "text/plain": [
       "0         Q2\n",
       "1         Q3\n",
       "2         Q3\n",
       "3         Q2\n",
       "4         Q3\n",
       "          ..\n",
       "199995    Q4\n",
       "199996    Q1\n",
       "199997    Q2\n",
       "199998    Q2\n",
       "199999    Q2\n",
       "Name: quater, Length: 199999, dtype: object"
      ]
     },
     "execution_count": 49,
     "metadata": {},
     "output_type": "execute_result"
    }
   ],
   "source": [
    "df['quater']"
   ]
  },
  {
   "cell_type": "code",
   "execution_count": 50,
   "id": "3d073e44",
   "metadata": {},
   "outputs": [
    {
     "data": {
      "text/plain": [
       "7687"
      ]
     },
     "execution_count": 50,
     "metadata": {},
     "output_type": "execute_result"
    }
   ],
   "source": [
    "len(df.loc[(df['pickup_year'] ==2014) & (df['quater'] == 'Q1')])"
   ]
  },
  {
   "cell_type": "code",
   "execution_count": 51,
   "id": "dd8e7111",
   "metadata": {},
   "outputs": [],
   "source": [
    "#On which day of the week in September 2010, maximum rides were recorded ?"
   ]
  },
  {
   "cell_type": "code",
   "execution_count": 52,
   "id": "4ffa29ae",
   "metadata": {},
   "outputs": [],
   "source": [
    "df['day'] = df['pickup_datetime'].dt.strftime('%A')"
   ]
  },
  {
   "cell_type": "code",
   "execution_count": 53,
   "id": "c1e9b9f8",
   "metadata": {},
   "outputs": [],
   "source": [
    "df['ride_week_day'] = df['pickup_datetime'].dt.weekday"
   ]
  },
  {
   "cell_type": "code",
   "execution_count": 54,
   "id": "517fbd64",
   "metadata": {},
   "outputs": [
    {
     "data": {
      "text/plain": [
       "0          Thursday\n",
       "1            Friday\n",
       "2            Monday\n",
       "3            Friday\n",
       "4          Thursday\n",
       "            ...    \n",
       "199995       Sunday\n",
       "199996       Friday\n",
       "199997       Monday\n",
       "199998    Wednesday\n",
       "199999     Saturday\n",
       "Name: day, Length: 199999, dtype: object"
      ]
     },
     "execution_count": 54,
     "metadata": {},
     "output_type": "execute_result"
    }
   ],
   "source": [
    "df['day']"
   ]
  },
  {
   "cell_type": "code",
   "execution_count": 55,
   "id": "f17ce5f1",
   "metadata": {},
   "outputs": [
    {
     "data": {
      "text/plain": [
       "0         3\n",
       "1         4\n",
       "2         0\n",
       "3         4\n",
       "4         3\n",
       "         ..\n",
       "199995    6\n",
       "199996    4\n",
       "199997    0\n",
       "199998    2\n",
       "199999    5\n",
       "Name: ride_week_day, Length: 199999, dtype: int64"
      ]
     },
     "execution_count": 55,
     "metadata": {},
     "output_type": "execute_result"
    }
   ],
   "source": [
    "df['ride_week_day']"
   ]
  },
  {
   "cell_type": "code",
   "execution_count": 56,
   "id": "c9cd3562",
   "metadata": {},
   "outputs": [],
   "source": [
    "df['month'] = df['pickup_datetime'].dt.strftime('%B')"
   ]
  },
  {
   "cell_type": "code",
   "execution_count": 57,
   "id": "7554979f",
   "metadata": {},
   "outputs": [],
   "source": [
    "df1 = df.loc[(df['month']=='September') & (df['pickup_year']==2010)]"
   ]
  },
  {
   "cell_type": "code",
   "execution_count": 58,
   "id": "adb8b52f",
   "metadata": {},
   "outputs": [
    {
     "data": {
      "text/html": [
       "<div>\n",
       "<style scoped>\n",
       "    .dataframe tbody tr th:only-of-type {\n",
       "        vertical-align: middle;\n",
       "    }\n",
       "\n",
       "    .dataframe tbody tr th {\n",
       "        vertical-align: top;\n",
       "    }\n",
       "\n",
       "    .dataframe thead th {\n",
       "        text-align: right;\n",
       "    }\n",
       "</style>\n",
       "<table border=\"1\" class=\"dataframe\">\n",
       "  <thead>\n",
       "    <tr style=\"text-align: right;\">\n",
       "      <th></th>\n",
       "      <th>ride_id</th>\n",
       "      <th>fare_amount</th>\n",
       "      <th>pickup_datetime</th>\n",
       "      <th>pickup_longitude</th>\n",
       "      <th>pickup_latitude</th>\n",
       "      <th>dropoff_longitude</th>\n",
       "      <th>dropoff_latitude</th>\n",
       "      <th>passenger_count</th>\n",
       "      <th>distance</th>\n",
       "      <th>pickup_year</th>\n",
       "      <th>pickup_month</th>\n",
       "      <th>quater</th>\n",
       "      <th>day</th>\n",
       "      <th>ride_week_day</th>\n",
       "      <th>month</th>\n",
       "    </tr>\n",
       "  </thead>\n",
       "  <tbody>\n",
       "    <tr>\n",
       "      <th>23</th>\n",
       "      <td>25121708</td>\n",
       "      <td>7.7</td>\n",
       "      <td>2010-09-04 16:12:00+00:00</td>\n",
       "      <td>-73.994300</td>\n",
       "      <td>40.739512</td>\n",
       "      <td>-73.988070</td>\n",
       "      <td>40.724482</td>\n",
       "      <td>2</td>\n",
       "      <td>1.751763</td>\n",
       "      <td>2010</td>\n",
       "      <td>9</td>\n",
       "      <td>Q3</td>\n",
       "      <td>Saturday</td>\n",
       "      <td>5</td>\n",
       "      <td>September</td>\n",
       "    </tr>\n",
       "    <tr>\n",
       "      <th>85</th>\n",
       "      <td>11536406</td>\n",
       "      <td>7.7</td>\n",
       "      <td>2010-09-08 10:16:01+00:00</td>\n",
       "      <td>-73.987383</td>\n",
       "      <td>40.721255</td>\n",
       "      <td>-73.954733</td>\n",
       "      <td>40.730683</td>\n",
       "      <td>1</td>\n",
       "      <td>2.944304</td>\n",
       "      <td>2010</td>\n",
       "      <td>9</td>\n",
       "      <td>Q3</td>\n",
       "      <td>Wednesday</td>\n",
       "      <td>2</td>\n",
       "      <td>September</td>\n",
       "    </tr>\n",
       "    <tr>\n",
       "      <th>87</th>\n",
       "      <td>11267091</td>\n",
       "      <td>4.5</td>\n",
       "      <td>2010-09-22 12:15:00+00:00</td>\n",
       "      <td>-73.981920</td>\n",
       "      <td>40.761172</td>\n",
       "      <td>-74.016152</td>\n",
       "      <td>40.704765</td>\n",
       "      <td>1</td>\n",
       "      <td>6.903596</td>\n",
       "      <td>2010</td>\n",
       "      <td>9</td>\n",
       "      <td>Q3</td>\n",
       "      <td>Wednesday</td>\n",
       "      <td>2</td>\n",
       "      <td>September</td>\n",
       "    </tr>\n",
       "    <tr>\n",
       "      <th>126</th>\n",
       "      <td>8791172</td>\n",
       "      <td>5.3</td>\n",
       "      <td>2010-09-21 12:38:00+00:00</td>\n",
       "      <td>-73.956158</td>\n",
       "      <td>40.781593</td>\n",
       "      <td>-73.966138</td>\n",
       "      <td>40.773645</td>\n",
       "      <td>1</td>\n",
       "      <td>1.219522</td>\n",
       "      <td>2010</td>\n",
       "      <td>9</td>\n",
       "      <td>Q3</td>\n",
       "      <td>Tuesday</td>\n",
       "      <td>1</td>\n",
       "      <td>September</td>\n",
       "    </tr>\n",
       "    <tr>\n",
       "      <th>129</th>\n",
       "      <td>30203807</td>\n",
       "      <td>10.5</td>\n",
       "      <td>2010-09-10 16:28:00+00:00</td>\n",
       "      <td>-73.995627</td>\n",
       "      <td>40.749295</td>\n",
       "      <td>-73.965087</td>\n",
       "      <td>40.771610</td>\n",
       "      <td>1</td>\n",
       "      <td>3.573956</td>\n",
       "      <td>2010</td>\n",
       "      <td>9</td>\n",
       "      <td>Q3</td>\n",
       "      <td>Friday</td>\n",
       "      <td>4</td>\n",
       "      <td>September</td>\n",
       "    </tr>\n",
       "  </tbody>\n",
       "</table>\n",
       "</div>"
      ],
      "text/plain": [
       "      ride_id  fare_amount           pickup_datetime  pickup_longitude  \\\n",
       "23   25121708          7.7 2010-09-04 16:12:00+00:00        -73.994300   \n",
       "85   11536406          7.7 2010-09-08 10:16:01+00:00        -73.987383   \n",
       "87   11267091          4.5 2010-09-22 12:15:00+00:00        -73.981920   \n",
       "126   8791172          5.3 2010-09-21 12:38:00+00:00        -73.956158   \n",
       "129  30203807         10.5 2010-09-10 16:28:00+00:00        -73.995627   \n",
       "\n",
       "     pickup_latitude  dropoff_longitude  dropoff_latitude  passenger_count  \\\n",
       "23         40.739512         -73.988070         40.724482                2   \n",
       "85         40.721255         -73.954733         40.730683                1   \n",
       "87         40.761172         -74.016152         40.704765                1   \n",
       "126        40.781593         -73.966138         40.773645                1   \n",
       "129        40.749295         -73.965087         40.771610                1   \n",
       "\n",
       "     distance  pickup_year  pickup_month quater        day  ride_week_day  \\\n",
       "23   1.751763         2010             9     Q3   Saturday              5   \n",
       "85   2.944304         2010             9     Q3  Wednesday              2   \n",
       "87   6.903596         2010             9     Q3  Wednesday              2   \n",
       "126  1.219522         2010             9     Q3    Tuesday              1   \n",
       "129  3.573956         2010             9     Q3     Friday              4   \n",
       "\n",
       "         month  \n",
       "23   September  \n",
       "85   September  \n",
       "87   September  \n",
       "126  September  \n",
       "129  September  "
      ]
     },
     "execution_count": 58,
     "metadata": {},
     "output_type": "execute_result"
    }
   ],
   "source": [
    "df1.head()"
   ]
  },
  {
   "cell_type": "code",
   "execution_count": 59,
   "id": "9bd275d5",
   "metadata": {},
   "outputs": [
    {
     "data": {
      "text/plain": [
       "Thursday     457\n",
       "Wednesday    391\n",
       "Saturday     362\n",
       "Friday       354\n",
       "Sunday       331\n",
       "Tuesday      322\n",
       "Monday       265\n",
       "Name: day, dtype: int64"
      ]
     },
     "execution_count": 59,
     "metadata": {},
     "output_type": "execute_result"
    }
   ],
   "source": [
    "df1['day'].value_counts()"
   ]
  },
  {
   "cell_type": "code",
   "execution_count": 60,
   "id": "a9dd72d3",
   "metadata": {},
   "outputs": [
    {
     "data": {
      "text/plain": [
       "'Apply a Machine Learning Algorithm to predict the fare amount given following input features:\\npassenger_count, distance and ride_week_day.\\n\\nPerform a 70-30 split of data.\\n\\nWhich algorithm gives the least adjusted R square value?'"
      ]
     },
     "execution_count": 60,
     "metadata": {},
     "output_type": "execute_result"
    }
   ],
   "source": [
    "# Q\n",
    "'''Apply a Machine Learning Algorithm to predict the fare amount given following input features:\n",
    "passenger_count, distance and ride_week_day.\n",
    "\n",
    "Perform a 70-30 split of data.\n",
    "\n",
    "Which algorithm gives the least adjusted R square value?'''"
   ]
  },
  {
   "cell_type": "markdown",
   "id": "7e4f2444",
   "metadata": {},
   "source": [
    "Importing algorithms"
   ]
  },
  {
   "cell_type": "code",
   "execution_count": 61,
   "id": "aebea8a9",
   "metadata": {},
   "outputs": [],
   "source": [
    "from sklearn.model_selection import train_test_split\n",
    "from sklearn.linear_model import LinearRegression\n",
    "from sklearn.tree import DecisionTreeRegressor\n",
    "from sklearn.ensemble import RandomForestRegressor\n",
    "from sklearn.neighbors import KNeighborsRegressor"
   ]
  },
  {
   "cell_type": "code",
   "execution_count": 62,
   "id": "3415629b",
   "metadata": {},
   "outputs": [],
   "source": [
    "X= df[['passenger_count','distance','ride_week_day']]\n",
    "y= df['fare_amount']"
   ]
  },
  {
   "cell_type": "markdown",
   "id": "fcb3d1e8",
   "metadata": {},
   "source": [
    "train test split"
   ]
  },
  {
   "cell_type": "code",
   "execution_count": 63,
   "id": "9ff6dcb0",
   "metadata": {},
   "outputs": [],
   "source": [
    "x_train,x_test,y_train,y_test = train_test_split(X,y,test_size=0.3)"
   ]
  },
  {
   "cell_type": "code",
   "execution_count": 64,
   "id": "42d29fdb",
   "metadata": {},
   "outputs": [],
   "source": [
    "from sklearn.preprocessing import StandardScaler"
   ]
  },
  {
   "cell_type": "markdown",
   "id": "5f79e1a3",
   "metadata": {},
   "source": [
    "Scaling the distance feature"
   ]
  },
  {
   "cell_type": "code",
   "execution_count": 65,
   "id": "bb0628bb",
   "metadata": {},
   "outputs": [],
   "source": [
    "scaler = StandardScaler()"
   ]
  },
  {
   "cell_type": "code",
   "execution_count": 66,
   "id": "5411829a",
   "metadata": {},
   "outputs": [],
   "source": [
    "x_train_s = scaler.fit_transform(x_train[['distance']])\n",
    "x_train_d = pd.DataFrame(x_train_s,columns=['distance'])"
   ]
  },
  {
   "cell_type": "code",
   "execution_count": 67,
   "id": "089f0705",
   "metadata": {},
   "outputs": [],
   "source": [
    "x_test_s = scaler.transform(x_test[['distance']])\n",
    "x_test_d = pd.DataFrame(x_test_s,columns=['distance'])"
   ]
  },
  {
   "cell_type": "code",
   "execution_count": 68,
   "id": "f8b3107d",
   "metadata": {},
   "outputs": [],
   "source": [
    "col = x_train[['passenger_count','ride_week_day']]\n",
    "x_train1 = col.join(x_train_d,on=x_train_d.index)"
   ]
  },
  {
   "cell_type": "code",
   "execution_count": 69,
   "id": "e3e2b953",
   "metadata": {},
   "outputs": [],
   "source": [
    "col1 = x_test[['passenger_count','ride_week_day']]\n",
    "x_test1 = col1.join(x_test_d,on=x_test_d.index)"
   ]
  },
  {
   "cell_type": "markdown",
   "id": "88d20088",
   "metadata": {},
   "source": [
    "Linear regression"
   ]
  },
  {
   "cell_type": "code",
   "execution_count": 70,
   "id": "c781e784",
   "metadata": {},
   "outputs": [],
   "source": [
    "lr = LinearRegression()"
   ]
  },
  {
   "cell_type": "code",
   "execution_count": 71,
   "id": "55b052b5",
   "metadata": {},
   "outputs": [
    {
     "data": {
      "text/plain": [
       "LinearRegression()"
      ]
     },
     "execution_count": 71,
     "metadata": {},
     "output_type": "execute_result"
    }
   ],
   "source": [
    "lr.fit(x_train1,y_train)"
   ]
  },
  {
   "cell_type": "code",
   "execution_count": 72,
   "id": "f5e9b2ff",
   "metadata": {},
   "outputs": [],
   "source": [
    "pred = lr.predict(x_test1)"
   ]
  },
  {
   "cell_type": "code",
   "execution_count": 73,
   "id": "cd543b02",
   "metadata": {},
   "outputs": [
    {
     "data": {
      "text/plain": [
       "0.0005366865838487556"
      ]
     },
     "execution_count": 73,
     "metadata": {},
     "output_type": "execute_result"
    }
   ],
   "source": [
    "lr.score(x_train1,y_train)"
   ]
  },
  {
   "cell_type": "code",
   "execution_count": 74,
   "id": "64adb729",
   "metadata": {},
   "outputs": [],
   "source": [
    "from sklearn.metrics import r2_score"
   ]
  },
  {
   "cell_type": "code",
   "execution_count": 75,
   "id": "b946a4a0",
   "metadata": {},
   "outputs": [
    {
     "data": {
      "text/plain": [
       "0.0011912025239576574"
      ]
     },
     "execution_count": 75,
     "metadata": {},
     "output_type": "execute_result"
    }
   ],
   "source": [
    "r2_score(y_test,pred)"
   ]
  },
  {
   "cell_type": "code",
   "execution_count": 79,
   "id": "0321e82b",
   "metadata": {},
   "outputs": [
    {
     "data": {
      "text/plain": [
       "0.0011412587544992192"
      ]
     },
     "execution_count": 79,
     "metadata": {},
     "output_type": "execute_result"
    }
   ],
   "source": [
    "r2 = r2_score(y_test,pred)\n",
    "n = x_test1.shape[0]\n",
    "p = x_test1.shape[1]\n",
    "\n",
    "adjusted_r2 = 1-(1-r2)*(n-1)/(n-p-1)\n",
    "adjusted_r2"
   ]
  },
  {
   "cell_type": "markdown",
   "id": "85098148",
   "metadata": {},
   "source": [
    "Decision tree regressor"
   ]
  },
  {
   "cell_type": "code",
   "execution_count": 80,
   "id": "450c9b1f",
   "metadata": {},
   "outputs": [],
   "source": [
    "dt = DecisionTreeRegressor()"
   ]
  },
  {
   "cell_type": "code",
   "execution_count": 81,
   "id": "d413b79a",
   "metadata": {},
   "outputs": [
    {
     "data": {
      "text/plain": [
       "DecisionTreeRegressor()"
      ]
     },
     "execution_count": 81,
     "metadata": {},
     "output_type": "execute_result"
    }
   ],
   "source": [
    "dt.fit(x_train1,y_train)"
   ]
  },
  {
   "cell_type": "code",
   "execution_count": 82,
   "id": "e4c0c0b7",
   "metadata": {},
   "outputs": [],
   "source": [
    "pred_dt = dt.predict(x_test1)"
   ]
  },
  {
   "cell_type": "code",
   "execution_count": 92,
   "id": "aeddab6e",
   "metadata": {},
   "outputs": [
    {
     "data": {
      "text/plain": [
       "0.48869787499500394"
      ]
     },
     "execution_count": 92,
     "metadata": {},
     "output_type": "execute_result"
    }
   ],
   "source": [
    "r2_score(y_test,pred_dt)"
   ]
  },
  {
   "cell_type": "code",
   "execution_count": 93,
   "id": "efa5d021",
   "metadata": {},
   "outputs": [
    {
     "data": {
      "text/plain": [
       "0.48867230818429963"
      ]
     },
     "execution_count": 93,
     "metadata": {},
     "output_type": "execute_result"
    }
   ],
   "source": [
    "r2 = r2_score(y_test,pred_dt)\n",
    "n = x_test1.shape[0]\n",
    "p = x_test1.shape[1]\n",
    "\n",
    "adjusted_r2 = 1-(1-r2)*(n-1)/(n-p-1)\n",
    "adjusted_r2"
   ]
  },
  {
   "cell_type": "markdown",
   "id": "ce6b8be8",
   "metadata": {},
   "source": [
    "Random forest Regressor"
   ]
  },
  {
   "cell_type": "code",
   "execution_count": 85,
   "id": "d50a5b2f",
   "metadata": {},
   "outputs": [],
   "source": [
    "rf = RandomForestRegressor()"
   ]
  },
  {
   "cell_type": "code",
   "execution_count": 95,
   "id": "6e468768",
   "metadata": {},
   "outputs": [
    {
     "data": {
      "text/plain": [
       "RandomForestRegressor()"
      ]
     },
     "execution_count": 95,
     "metadata": {},
     "output_type": "execute_result"
    }
   ],
   "source": [
    "rf.fit(x_train1,y_train)"
   ]
  },
  {
   "cell_type": "code",
   "execution_count": 96,
   "id": "7b2f66e6",
   "metadata": {},
   "outputs": [],
   "source": [
    "pred_rf = rf.predict(x_test1)"
   ]
  },
  {
   "cell_type": "code",
   "execution_count": 97,
   "id": "1133594b",
   "metadata": {},
   "outputs": [
    {
     "data": {
      "text/plain": [
       "0.6392985854125959"
      ]
     },
     "execution_count": 97,
     "metadata": {},
     "output_type": "execute_result"
    }
   ],
   "source": [
    "r2_score(y_test,pred_rf)"
   ]
  },
  {
   "cell_type": "code",
   "execution_count": 98,
   "id": "03a8fd3b",
   "metadata": {},
   "outputs": [
    {
     "data": {
      "text/plain": [
       "0.6392805491394482"
      ]
     },
     "execution_count": 98,
     "metadata": {},
     "output_type": "execute_result"
    }
   ],
   "source": [
    "r2 = r2_score(y_test,pred_rf)\n",
    "n = x_test1.shape[0]\n",
    "p = x_test1.shape[1]\n",
    "\n",
    "adjusted_r2 = 1-(1-r2)*(n-1)/(n-p-1)\n",
    "adjusted_r2"
   ]
  },
  {
   "cell_type": "markdown",
   "id": "0277ea54",
   "metadata": {},
   "source": [
    "Knn regressor"
   ]
  },
  {
   "cell_type": "code",
   "execution_count": 99,
   "id": "49dd2f90",
   "metadata": {},
   "outputs": [],
   "source": [
    "knn = KNeighborsRegressor()"
   ]
  },
  {
   "cell_type": "code",
   "execution_count": 100,
   "id": "41fe9d83",
   "metadata": {},
   "outputs": [
    {
     "data": {
      "text/plain": [
       "KNeighborsRegressor()"
      ]
     },
     "execution_count": 100,
     "metadata": {},
     "output_type": "execute_result"
    }
   ],
   "source": [
    "knn.fit(x_train1,y_train)"
   ]
  },
  {
   "cell_type": "code",
   "execution_count": 101,
   "id": "fd748422",
   "metadata": {},
   "outputs": [],
   "source": [
    "pred_knn = knn.predict(x_test1)"
   ]
  },
  {
   "cell_type": "code",
   "execution_count": 102,
   "id": "8186a834",
   "metadata": {},
   "outputs": [
    {
     "data": {
      "text/plain": [
       "0.6399288926412312"
      ]
     },
     "execution_count": 102,
     "metadata": {},
     "output_type": "execute_result"
    }
   ],
   "source": [
    "r2 = r2_score(y_test,pred_knn)\n",
    "n = x_test1.shape[0]\n",
    "p = x_test1.shape[1]\n",
    "\n",
    "adjusted_r2 = 1-(1-r2)*(n-1)/(n-p-1)\n",
    "adjusted_r2"
   ]
  },
  {
   "cell_type": "code",
   "execution_count": null,
   "id": "2752e9cf",
   "metadata": {},
   "outputs": [],
   "source": []
  }
 ],
 "metadata": {
  "kernelspec": {
   "display_name": "Python 3 (ipykernel)",
   "language": "python",
   "name": "python3"
  },
  "language_info": {
   "codemirror_mode": {
    "name": "ipython",
    "version": 3
   },
   "file_extension": ".py",
   "mimetype": "text/x-python",
   "name": "python",
   "nbconvert_exporter": "python",
   "pygments_lexer": "ipython3",
   "version": "3.9.12"
  }
 },
 "nbformat": 4,
 "nbformat_minor": 5
}
